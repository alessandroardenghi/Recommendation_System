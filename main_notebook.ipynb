{
 "cells": [
  {
   "cell_type": "markdown",
   "metadata": {},
   "source": [
    "# Recommendation Systems"
   ]
  },
  {
   "cell_type": "markdown",
   "metadata": {},
   "source": [
    "In this Notebook, we implement and evaluate different techniques to estimate user ratings to movies based on past predictions on similar movies and other users predictions. <br>\n",
    "We use a dataset that contains a list of movies with corresponding ratings for each user and a list of movies with corresponding genres."
   ]
  },
  {
   "cell_type": "code",
   "execution_count": 1,
   "metadata": {},
   "outputs": [],
   "source": [
    "from utils import create_train_test_masks, Jaccard_matrix, knn_estimation, train_latent_model, build_latent_nn, test_model, optimal_knn_model\n",
    "import pandas as pd\n",
    "import numpy as np\n",
    "from sklearn.metrics.pairwise import cosine_similarity\n",
    "from numpy.linalg import solve\n",
    "import matplotlib.pyplot as plt"
   ]
  },
  {
   "cell_type": "markdown",
   "metadata": {},
   "source": [
    "## Data Exploration"
   ]
  },
  {
   "cell_type": "code",
   "execution_count": 2,
   "metadata": {},
   "outputs": [],
   "source": [
    "movie_genres = pd.read_csv('movie_reviews/movie_genres.csv')\n",
    "user_reviews = pd.read_csv('movie_reviews/user_reviews.csv')"
   ]
  },
  {
   "cell_type": "code",
   "execution_count": 3,
   "metadata": {},
   "outputs": [
    {
     "name": "stdout",
     "output_type": "stream",
     "text": [
      "Dimensions: (2000, 27)\n"
     ]
    },
    {
     "data": {
      "text/html": [
       "<div>\n",
       "<style scoped>\n",
       "    .dataframe tbody tr th:only-of-type {\n",
       "        vertical-align: middle;\n",
       "    }\n",
       "\n",
       "    .dataframe tbody tr th {\n",
       "        vertical-align: top;\n",
       "    }\n",
       "\n",
       "    .dataframe thead th {\n",
       "        text-align: right;\n",
       "    }\n",
       "</style>\n",
       "<table border=\"1\" class=\"dataframe\">\n",
       "  <thead>\n",
       "    <tr style=\"text-align: right;\">\n",
       "      <th></th>\n",
       "      <th>Unnamed: 0</th>\n",
       "      <th>movie_title</th>\n",
       "      <th>genre_action</th>\n",
       "      <th>genre_adventure</th>\n",
       "      <th>genre_animation</th>\n",
       "      <th>genre_biography</th>\n",
       "      <th>genre_comedy</th>\n",
       "      <th>genre_crime</th>\n",
       "      <th>genre_documentary</th>\n",
       "      <th>genre_drama</th>\n",
       "      <th>...</th>\n",
       "      <th>genre_mystery</th>\n",
       "      <th>genre_news</th>\n",
       "      <th>genre_reality-tv</th>\n",
       "      <th>genre_romance</th>\n",
       "      <th>genre_sci-fi</th>\n",
       "      <th>genre_short</th>\n",
       "      <th>genre_sport</th>\n",
       "      <th>genre_thriller</th>\n",
       "      <th>genre_war</th>\n",
       "      <th>genre_western</th>\n",
       "    </tr>\n",
       "  </thead>\n",
       "  <tbody>\n",
       "    <tr>\n",
       "      <th>0</th>\n",
       "      <td>0</td>\n",
       "      <td>The Net</td>\n",
       "      <td>1</td>\n",
       "      <td>0</td>\n",
       "      <td>0</td>\n",
       "      <td>0</td>\n",
       "      <td>0</td>\n",
       "      <td>1</td>\n",
       "      <td>0</td>\n",
       "      <td>1</td>\n",
       "      <td>...</td>\n",
       "      <td>1</td>\n",
       "      <td>0</td>\n",
       "      <td>0</td>\n",
       "      <td>0</td>\n",
       "      <td>0</td>\n",
       "      <td>0</td>\n",
       "      <td>0</td>\n",
       "      <td>1</td>\n",
       "      <td>0</td>\n",
       "      <td>0</td>\n",
       "    </tr>\n",
       "    <tr>\n",
       "      <th>1</th>\n",
       "      <td>1</td>\n",
       "      <td>Happily N'Ever After</td>\n",
       "      <td>0</td>\n",
       "      <td>1</td>\n",
       "      <td>1</td>\n",
       "      <td>0</td>\n",
       "      <td>1</td>\n",
       "      <td>0</td>\n",
       "      <td>0</td>\n",
       "      <td>0</td>\n",
       "      <td>...</td>\n",
       "      <td>0</td>\n",
       "      <td>0</td>\n",
       "      <td>0</td>\n",
       "      <td>0</td>\n",
       "      <td>0</td>\n",
       "      <td>0</td>\n",
       "      <td>0</td>\n",
       "      <td>0</td>\n",
       "      <td>0</td>\n",
       "      <td>0</td>\n",
       "    </tr>\n",
       "    <tr>\n",
       "      <th>2</th>\n",
       "      <td>2</td>\n",
       "      <td>Tomorrowland</td>\n",
       "      <td>1</td>\n",
       "      <td>1</td>\n",
       "      <td>0</td>\n",
       "      <td>0</td>\n",
       "      <td>0</td>\n",
       "      <td>0</td>\n",
       "      <td>0</td>\n",
       "      <td>0</td>\n",
       "      <td>...</td>\n",
       "      <td>1</td>\n",
       "      <td>0</td>\n",
       "      <td>0</td>\n",
       "      <td>0</td>\n",
       "      <td>1</td>\n",
       "      <td>0</td>\n",
       "      <td>0</td>\n",
       "      <td>0</td>\n",
       "      <td>0</td>\n",
       "      <td>0</td>\n",
       "    </tr>\n",
       "    <tr>\n",
       "      <th>3</th>\n",
       "      <td>3</td>\n",
       "      <td>American Hero</td>\n",
       "      <td>1</td>\n",
       "      <td>0</td>\n",
       "      <td>0</td>\n",
       "      <td>0</td>\n",
       "      <td>1</td>\n",
       "      <td>0</td>\n",
       "      <td>0</td>\n",
       "      <td>1</td>\n",
       "      <td>...</td>\n",
       "      <td>0</td>\n",
       "      <td>0</td>\n",
       "      <td>0</td>\n",
       "      <td>0</td>\n",
       "      <td>1</td>\n",
       "      <td>0</td>\n",
       "      <td>0</td>\n",
       "      <td>0</td>\n",
       "      <td>0</td>\n",
       "      <td>0</td>\n",
       "    </tr>\n",
       "    <tr>\n",
       "      <th>4</th>\n",
       "      <td>4</td>\n",
       "      <td>Das Boot</td>\n",
       "      <td>0</td>\n",
       "      <td>1</td>\n",
       "      <td>0</td>\n",
       "      <td>0</td>\n",
       "      <td>0</td>\n",
       "      <td>0</td>\n",
       "      <td>0</td>\n",
       "      <td>1</td>\n",
       "      <td>...</td>\n",
       "      <td>0</td>\n",
       "      <td>0</td>\n",
       "      <td>0</td>\n",
       "      <td>0</td>\n",
       "      <td>0</td>\n",
       "      <td>0</td>\n",
       "      <td>0</td>\n",
       "      <td>1</td>\n",
       "      <td>1</td>\n",
       "      <td>0</td>\n",
       "    </tr>\n",
       "  </tbody>\n",
       "</table>\n",
       "<p>5 rows × 27 columns</p>\n",
       "</div>"
      ],
      "text/plain": [
       "   Unnamed: 0           movie_title  genre_action  genre_adventure  \\\n",
       "0           0               The Net             1                0   \n",
       "1           1  Happily N'Ever After             0                1   \n",
       "2           2          Tomorrowland             1                1   \n",
       "3           3         American Hero             1                0   \n",
       "4           4              Das Boot             0                1   \n",
       "\n",
       "   genre_animation  genre_biography  genre_comedy  genre_crime  \\\n",
       "0                0                0             0            1   \n",
       "1                1                0             1            0   \n",
       "2                0                0             0            0   \n",
       "3                0                0             1            0   \n",
       "4                0                0             0            0   \n",
       "\n",
       "   genre_documentary  genre_drama  ...  genre_mystery  genre_news  \\\n",
       "0                  0            1  ...              1           0   \n",
       "1                  0            0  ...              0           0   \n",
       "2                  0            0  ...              1           0   \n",
       "3                  0            1  ...              0           0   \n",
       "4                  0            1  ...              0           0   \n",
       "\n",
       "   genre_reality-tv  genre_romance  genre_sci-fi  genre_short  genre_sport  \\\n",
       "0                 0              0             0            0            0   \n",
       "1                 0              0             0            0            0   \n",
       "2                 0              0             1            0            0   \n",
       "3                 0              0             1            0            0   \n",
       "4                 0              0             0            0            0   \n",
       "\n",
       "   genre_thriller  genre_war  genre_western  \n",
       "0               1          0              0  \n",
       "1               0          0              0  \n",
       "2               0          0              0  \n",
       "3               0          0              0  \n",
       "4               1          1              0  \n",
       "\n",
       "[5 rows x 27 columns]"
      ]
     },
     "execution_count": 3,
     "metadata": {},
     "output_type": "execute_result"
    }
   ],
   "source": [
    "print(f'Dimensions: {movie_genres.shape}')\n",
    "movie_genres.head()"
   ]
  },
  {
   "cell_type": "markdown",
   "metadata": {},
   "source": [
    "As we can see, the movie_genres dataset contains 2000 movies, and each of them has 25 possible genres."
   ]
  },
  {
   "cell_type": "code",
   "execution_count": 4,
   "metadata": {},
   "outputs": [
    {
     "name": "stdout",
     "output_type": "stream",
     "text": [
      "Dimensions: (600, 2002)\n"
     ]
    },
    {
     "data": {
      "text/html": [
       "<div>\n",
       "<style scoped>\n",
       "    .dataframe tbody tr th:only-of-type {\n",
       "        vertical-align: middle;\n",
       "    }\n",
       "\n",
       "    .dataframe tbody tr th {\n",
       "        vertical-align: top;\n",
       "    }\n",
       "\n",
       "    .dataframe thead th {\n",
       "        text-align: right;\n",
       "    }\n",
       "</style>\n",
       "<table border=\"1\" class=\"dataframe\">\n",
       "  <thead>\n",
       "    <tr style=\"text-align: right;\">\n",
       "      <th></th>\n",
       "      <th>Unnamed: 0</th>\n",
       "      <th>User</th>\n",
       "      <th>The Net</th>\n",
       "      <th>Happily N'Ever After</th>\n",
       "      <th>Tomorrowland</th>\n",
       "      <th>American Hero</th>\n",
       "      <th>Das Boot</th>\n",
       "      <th>Final Destination 3</th>\n",
       "      <th>Licence to Kill</th>\n",
       "      <th>The Hundred-Foot Journey</th>\n",
       "      <th>...</th>\n",
       "      <th>The Martian</th>\n",
       "      <th>Micmacs</th>\n",
       "      <th>Solomon and Sheba</th>\n",
       "      <th>In the Company of Men</th>\n",
       "      <th>Silent House</th>\n",
       "      <th>Big Fish</th>\n",
       "      <th>Get Real</th>\n",
       "      <th>Trading Places</th>\n",
       "      <th>DOA: Dead or Alive</th>\n",
       "      <th>Hey Arnold! The Movie</th>\n",
       "    </tr>\n",
       "  </thead>\n",
       "  <tbody>\n",
       "    <tr>\n",
       "      <th>0</th>\n",
       "      <td>0</td>\n",
       "      <td>Vincent</td>\n",
       "      <td>0.0</td>\n",
       "      <td>0.0</td>\n",
       "      <td>0.0</td>\n",
       "      <td>0.0</td>\n",
       "      <td>0.0</td>\n",
       "      <td>0.0</td>\n",
       "      <td>0.0</td>\n",
       "      <td>0.0</td>\n",
       "      <td>...</td>\n",
       "      <td>0.0</td>\n",
       "      <td>0.0</td>\n",
       "      <td>0.0</td>\n",
       "      <td>0.0</td>\n",
       "      <td>0.0</td>\n",
       "      <td>0.0</td>\n",
       "      <td>0.0</td>\n",
       "      <td>0.0</td>\n",
       "      <td>0.0</td>\n",
       "      <td>0.0</td>\n",
       "    </tr>\n",
       "    <tr>\n",
       "      <th>1</th>\n",
       "      <td>1</td>\n",
       "      <td>Edgar</td>\n",
       "      <td>0.0</td>\n",
       "      <td>0.0</td>\n",
       "      <td>0.0</td>\n",
       "      <td>0.0</td>\n",
       "      <td>0.0</td>\n",
       "      <td>0.0</td>\n",
       "      <td>0.0</td>\n",
       "      <td>0.0</td>\n",
       "      <td>...</td>\n",
       "      <td>0.0</td>\n",
       "      <td>0.0</td>\n",
       "      <td>0.0</td>\n",
       "      <td>0.0</td>\n",
       "      <td>0.0</td>\n",
       "      <td>0.0</td>\n",
       "      <td>0.0</td>\n",
       "      <td>0.0</td>\n",
       "      <td>0.0</td>\n",
       "      <td>0.0</td>\n",
       "    </tr>\n",
       "    <tr>\n",
       "      <th>2</th>\n",
       "      <td>2</td>\n",
       "      <td>Addilyn</td>\n",
       "      <td>0.0</td>\n",
       "      <td>0.0</td>\n",
       "      <td>0.0</td>\n",
       "      <td>0.0</td>\n",
       "      <td>0.0</td>\n",
       "      <td>0.0</td>\n",
       "      <td>0.0</td>\n",
       "      <td>0.0</td>\n",
       "      <td>...</td>\n",
       "      <td>0.0</td>\n",
       "      <td>0.0</td>\n",
       "      <td>0.0</td>\n",
       "      <td>0.0</td>\n",
       "      <td>0.0</td>\n",
       "      <td>0.0</td>\n",
       "      <td>0.0</td>\n",
       "      <td>0.0</td>\n",
       "      <td>0.0</td>\n",
       "      <td>0.0</td>\n",
       "    </tr>\n",
       "    <tr>\n",
       "      <th>3</th>\n",
       "      <td>3</td>\n",
       "      <td>Marlee</td>\n",
       "      <td>0.0</td>\n",
       "      <td>0.0</td>\n",
       "      <td>0.0</td>\n",
       "      <td>0.0</td>\n",
       "      <td>0.0</td>\n",
       "      <td>0.0</td>\n",
       "      <td>0.0</td>\n",
       "      <td>0.0</td>\n",
       "      <td>...</td>\n",
       "      <td>0.0</td>\n",
       "      <td>0.0</td>\n",
       "      <td>0.0</td>\n",
       "      <td>0.0</td>\n",
       "      <td>0.0</td>\n",
       "      <td>0.0</td>\n",
       "      <td>0.0</td>\n",
       "      <td>0.0</td>\n",
       "      <td>0.0</td>\n",
       "      <td>0.0</td>\n",
       "    </tr>\n",
       "    <tr>\n",
       "      <th>4</th>\n",
       "      <td>4</td>\n",
       "      <td>Javier</td>\n",
       "      <td>0.0</td>\n",
       "      <td>0.0</td>\n",
       "      <td>0.0</td>\n",
       "      <td>0.0</td>\n",
       "      <td>0.0</td>\n",
       "      <td>0.0</td>\n",
       "      <td>0.0</td>\n",
       "      <td>0.0</td>\n",
       "      <td>...</td>\n",
       "      <td>0.0</td>\n",
       "      <td>0.0</td>\n",
       "      <td>0.0</td>\n",
       "      <td>0.0</td>\n",
       "      <td>0.0</td>\n",
       "      <td>0.0</td>\n",
       "      <td>0.0</td>\n",
       "      <td>0.0</td>\n",
       "      <td>0.0</td>\n",
       "      <td>0.0</td>\n",
       "    </tr>\n",
       "  </tbody>\n",
       "</table>\n",
       "<p>5 rows × 2002 columns</p>\n",
       "</div>"
      ],
      "text/plain": [
       "   Unnamed: 0     User  The Net  Happily N'Ever After  Tomorrowland  \\\n",
       "0           0  Vincent      0.0                   0.0           0.0   \n",
       "1           1    Edgar      0.0                   0.0           0.0   \n",
       "2           2  Addilyn      0.0                   0.0           0.0   \n",
       "3           3   Marlee      0.0                   0.0           0.0   \n",
       "4           4   Javier      0.0                   0.0           0.0   \n",
       "\n",
       "   American Hero  Das Boot  Final Destination 3  Licence to Kill  \\\n",
       "0            0.0       0.0                  0.0              0.0   \n",
       "1            0.0       0.0                  0.0              0.0   \n",
       "2            0.0       0.0                  0.0              0.0   \n",
       "3            0.0       0.0                  0.0              0.0   \n",
       "4            0.0       0.0                  0.0              0.0   \n",
       "\n",
       "   The Hundred-Foot Journey  ...  The Martian  Micmacs  Solomon and Sheba  \\\n",
       "0                       0.0  ...          0.0      0.0                0.0   \n",
       "1                       0.0  ...          0.0      0.0                0.0   \n",
       "2                       0.0  ...          0.0      0.0                0.0   \n",
       "3                       0.0  ...          0.0      0.0                0.0   \n",
       "4                       0.0  ...          0.0      0.0                0.0   \n",
       "\n",
       "   In the Company of Men  Silent House  Big Fish  Get Real  Trading Places  \\\n",
       "0                    0.0           0.0       0.0       0.0             0.0   \n",
       "1                    0.0           0.0       0.0       0.0             0.0   \n",
       "2                    0.0           0.0       0.0       0.0             0.0   \n",
       "3                    0.0           0.0       0.0       0.0             0.0   \n",
       "4                    0.0           0.0       0.0       0.0             0.0   \n",
       "\n",
       "   DOA: Dead or Alive  Hey Arnold! The Movie  \n",
       "0                 0.0                    0.0  \n",
       "1                 0.0                    0.0  \n",
       "2                 0.0                    0.0  \n",
       "3                 0.0                    0.0  \n",
       "4                 0.0                    0.0  \n",
       "\n",
       "[5 rows x 2002 columns]"
      ]
     },
     "execution_count": 4,
     "metadata": {},
     "output_type": "execute_result"
    }
   ],
   "source": [
    "print(f'Dimensions: {user_reviews.shape}')\n",
    "user_reviews.head()"
   ]
  },
  {
   "cell_type": "markdown",
   "metadata": {},
   "source": [
    "In this case, the user_reviews dataframe contains 600 rows corresponding to users and 2000 rows corresponding to movies. The movies match the ones seen in the movie_genres dataframe."
   ]
  },
  {
   "cell_type": "code",
   "execution_count": 5,
   "metadata": {},
   "outputs": [],
   "source": [
    "# We define the matrix of Ratings and the matrix of Genres\n",
    "R = user_reviews.iloc[:, 2:].copy().to_numpy()  \n",
    "G = movie_genres.iloc[:, 2:].copy()\n",
    "n_users, n_movies = R.shape"
   ]
  },
  {
   "cell_type": "code",
   "execution_count": 6,
   "metadata": {},
   "outputs": [
    {
     "name": "stdout",
     "output_type": "stream",
     "text": [
      "Ratings in R:\t\t 16525\n",
      "Ratings in R_train:\t 11897\n",
      "Ratings in R_val:\t 2975\n",
      "Ratings in R_test:\t 1653\n"
     ]
    }
   ],
   "source": [
    "R_rest, R_test = create_train_test_masks(R, 0.9)\n",
    "\n",
    "assert R_rest[R_rest != 0].shape[0] + R_test[R_test != 0].shape[0] == R[R != 0].shape[0]\n",
    "\n",
    "R_train, R_val = create_train_test_masks(R_rest, 0.8)\n",
    "\n",
    "assert R_train[R_train != 0].shape[0] + R_val[R_val != 0].shape[0] == R_rest[R_rest != 0].shape[0]\n",
    "assert R_train[R_train != 0].shape[0] + R_val[R_val != 0].shape[0] + R_test[R_test != 0].shape[0] == R[R != 0].shape[0]\n",
    "\n",
    "print(f\"Ratings in R:\\t\\t {np.sum(R > 0)}\")\n",
    "print(f\"Ratings in R_train:\\t {np.sum(R_train > 0)}\")\n",
    "print(f\"Ratings in R_val:\\t {np.sum(R_val > 0)}\")\n",
    "print(f\"Ratings in R_test:\\t {np.sum(R_test > 0)}\")"
   ]
  },
  {
   "cell_type": "markdown",
   "metadata": {},
   "source": [
    "## K-NN Approach"
   ]
  },
  {
   "cell_type": "markdown",
   "metadata": {},
   "source": [
    "In this section, we implement a classical method for predicting movie ratings based on the K-NN method. Here we exploit the local relationships between movies that are close (according to some meaninful metric) to output a good prediction. <br>\n",
    "The method is good at learning local structures, but lacks the capabilities to learn weak signals between datapoints that are far. Nonetheless, it can still output good predictions."
   ]
  },
  {
   "cell_type": "code",
   "execution_count": 7,
   "metadata": {},
   "outputs": [
    {
     "name": "stderr",
     "output_type": "stream",
     "text": [
      "Users Processed::   0%|          | 0/600 [00:00<?, ?it/s]/Users/alessandroardenghi/AILAB/Recommendation_System/utils.py:89: RuntimeWarning: Mean of empty slice\n",
      "  b_u = np.nanmean(user_reviews.replace(0, np.nan), axis=0)\n",
      "Users Processed:: 100%|██████████| 600/600 [02:05<00:00,  4.80it/s]\n"
     ]
    }
   ],
   "source": [
    "neigh_distance = 0.1\n",
    "distance_matrix = Jaccard_matrix(G)     # Matrix containing Jaccard Distance between Movies\n",
    "filled_ratings = knn_estimation(R_rest, distance_matrix, neigh_distance)   # Obtain predictions for all users\n"
   ]
  },
  {
   "cell_type": "markdown",
   "metadata": {},
   "source": [
    "We can see the ratings predicted for the first 5 users:"
   ]
  },
  {
   "cell_type": "code",
   "execution_count": 13,
   "metadata": {},
   "outputs": [
    {
     "data": {
      "text/html": [
       "<div>\n",
       "<style scoped>\n",
       "    .dataframe tbody tr th:only-of-type {\n",
       "        vertical-align: middle;\n",
       "    }\n",
       "\n",
       "    .dataframe tbody tr th {\n",
       "        vertical-align: top;\n",
       "    }\n",
       "\n",
       "    .dataframe thead th {\n",
       "        text-align: right;\n",
       "    }\n",
       "</style>\n",
       "<table border=\"1\" class=\"dataframe\">\n",
       "  <thead>\n",
       "    <tr style=\"text-align: right;\">\n",
       "      <th></th>\n",
       "      <th>0</th>\n",
       "      <th>1</th>\n",
       "      <th>2</th>\n",
       "      <th>3</th>\n",
       "      <th>4</th>\n",
       "      <th>5</th>\n",
       "      <th>6</th>\n",
       "      <th>7</th>\n",
       "      <th>8</th>\n",
       "      <th>9</th>\n",
       "      <th>...</th>\n",
       "      <th>1990</th>\n",
       "      <th>1991</th>\n",
       "      <th>1992</th>\n",
       "      <th>1993</th>\n",
       "      <th>1994</th>\n",
       "      <th>1995</th>\n",
       "      <th>1996</th>\n",
       "      <th>1997</th>\n",
       "      <th>1998</th>\n",
       "      <th>1999</th>\n",
       "    </tr>\n",
       "  </thead>\n",
       "  <tbody>\n",
       "    <tr>\n",
       "      <th>0</th>\n",
       "      <td>4.514988</td>\n",
       "      <td>3.365866</td>\n",
       "      <td>3.936055</td>\n",
       "      <td>3.896954</td>\n",
       "      <td>4.566341</td>\n",
       "      <td>4.446429</td>\n",
       "      <td>3.203979</td>\n",
       "      <td>4.455663</td>\n",
       "      <td>2.732416</td>\n",
       "      <td>3.254203</td>\n",
       "      <td>...</td>\n",
       "      <td>3.696583</td>\n",
       "      <td>3.606498</td>\n",
       "      <td>3.914251</td>\n",
       "      <td>3.955663</td>\n",
       "      <td>4.778158</td>\n",
       "      <td>3.677329</td>\n",
       "      <td>4.343974</td>\n",
       "      <td>2.866037</td>\n",
       "      <td>3.039132</td>\n",
       "      <td>3.339394</td>\n",
       "    </tr>\n",
       "    <tr>\n",
       "      <th>1</th>\n",
       "      <td>4.736321</td>\n",
       "      <td>3.612251</td>\n",
       "      <td>3.972625</td>\n",
       "      <td>4.012289</td>\n",
       "      <td>5.014483</td>\n",
       "      <td>2.423485</td>\n",
       "      <td>3.515541</td>\n",
       "      <td>4.475601</td>\n",
       "      <td>2.909026</td>\n",
       "      <td>3.260354</td>\n",
       "      <td>...</td>\n",
       "      <td>4.021446</td>\n",
       "      <td>3.163189</td>\n",
       "      <td>4.593420</td>\n",
       "      <td>3.975601</td>\n",
       "      <td>4.848985</td>\n",
       "      <td>4.204792</td>\n",
       "      <td>4.589399</td>\n",
       "      <td>1.962868</td>\n",
       "      <td>3.153997</td>\n",
       "      <td>3.415445</td>\n",
       "    </tr>\n",
       "    <tr>\n",
       "      <th>2</th>\n",
       "      <td>3.967058</td>\n",
       "      <td>3.964977</td>\n",
       "      <td>3.639413</td>\n",
       "      <td>3.817145</td>\n",
       "      <td>4.103646</td>\n",
       "      <td>2.865614</td>\n",
       "      <td>2.866585</td>\n",
       "      <td>4.496566</td>\n",
       "      <td>2.303156</td>\n",
       "      <td>2.693694</td>\n",
       "      <td>...</td>\n",
       "      <td>3.287492</td>\n",
       "      <td>4.002962</td>\n",
       "      <td>3.902808</td>\n",
       "      <td>3.996566</td>\n",
       "      <td>4.039035</td>\n",
       "      <td>3.415285</td>\n",
       "      <td>4.565310</td>\n",
       "      <td>3.747194</td>\n",
       "      <td>2.888932</td>\n",
       "      <td>4.095356</td>\n",
       "    </tr>\n",
       "    <tr>\n",
       "      <th>3</th>\n",
       "      <td>4.625258</td>\n",
       "      <td>3.124461</td>\n",
       "      <td>3.769538</td>\n",
       "      <td>3.459714</td>\n",
       "      <td>4.502273</td>\n",
       "      <td>2.829655</td>\n",
       "      <td>3.601815</td>\n",
       "      <td>3.831137</td>\n",
       "      <td>2.745359</td>\n",
       "      <td>3.417437</td>\n",
       "      <td>...</td>\n",
       "      <td>3.298645</td>\n",
       "      <td>3.582541</td>\n",
       "      <td>3.666927</td>\n",
       "      <td>3.331137</td>\n",
       "      <td>4.548136</td>\n",
       "      <td>3.351594</td>\n",
       "      <td>3.865094</td>\n",
       "      <td>2.564187</td>\n",
       "      <td>2.833472</td>\n",
       "      <td>3.058703</td>\n",
       "    </tr>\n",
       "    <tr>\n",
       "      <th>4</th>\n",
       "      <td>3.528096</td>\n",
       "      <td>4.123757</td>\n",
       "      <td>4.477426</td>\n",
       "      <td>3.581464</td>\n",
       "      <td>3.779841</td>\n",
       "      <td>2.162260</td>\n",
       "      <td>2.866593</td>\n",
       "      <td>3.931771</td>\n",
       "      <td>3.111111</td>\n",
       "      <td>2.337054</td>\n",
       "      <td>...</td>\n",
       "      <td>3.097354</td>\n",
       "      <td>3.684063</td>\n",
       "      <td>3.343497</td>\n",
       "      <td>3.431771</td>\n",
       "      <td>3.576608</td>\n",
       "      <td>2.953354</td>\n",
       "      <td>4.064742</td>\n",
       "      <td>3.263756</td>\n",
       "      <td>3.237778</td>\n",
       "      <td>4.331983</td>\n",
       "    </tr>\n",
       "  </tbody>\n",
       "</table>\n",
       "<p>5 rows × 2000 columns</p>\n",
       "</div>"
      ],
      "text/plain": [
       "       0         1         2         3         4         5         6     \\\n",
       "0  4.514988  3.365866  3.936055  3.896954  4.566341  4.446429  3.203979   \n",
       "1  4.736321  3.612251  3.972625  4.012289  5.014483  2.423485  3.515541   \n",
       "2  3.967058  3.964977  3.639413  3.817145  4.103646  2.865614  2.866585   \n",
       "3  4.625258  3.124461  3.769538  3.459714  4.502273  2.829655  3.601815   \n",
       "4  3.528096  4.123757  4.477426  3.581464  3.779841  2.162260  2.866593   \n",
       "\n",
       "       7         8         9     ...      1990      1991      1992      1993  \\\n",
       "0  4.455663  2.732416  3.254203  ...  3.696583  3.606498  3.914251  3.955663   \n",
       "1  4.475601  2.909026  3.260354  ...  4.021446  3.163189  4.593420  3.975601   \n",
       "2  4.496566  2.303156  2.693694  ...  3.287492  4.002962  3.902808  3.996566   \n",
       "3  3.831137  2.745359  3.417437  ...  3.298645  3.582541  3.666927  3.331137   \n",
       "4  3.931771  3.111111  2.337054  ...  3.097354  3.684063  3.343497  3.431771   \n",
       "\n",
       "       1994      1995      1996      1997      1998      1999  \n",
       "0  4.778158  3.677329  4.343974  2.866037  3.039132  3.339394  \n",
       "1  4.848985  4.204792  4.589399  1.962868  3.153997  3.415445  \n",
       "2  4.039035  3.415285  4.565310  3.747194  2.888932  4.095356  \n",
       "3  4.548136  3.351594  3.865094  2.564187  2.833472  3.058703  \n",
       "4  3.576608  2.953354  4.064742  3.263756  3.237778  4.331983  \n",
       "\n",
       "[5 rows x 2000 columns]"
      ]
     },
     "execution_count": 13,
     "metadata": {},
     "output_type": "execute_result"
    }
   ],
   "source": [
    "filled_ratings.head()"
   ]
  },
  {
   "cell_type": "code",
   "execution_count": 14,
   "metadata": {},
   "outputs": [
    {
     "name": "stdout",
     "output_type": "stream",
     "text": [
      "TEST RMSE: 1.0806\n"
     ]
    }
   ],
   "source": [
    "test_RMSE = test_model(filled_ratings, R, R_test)   # Computing RMSE of the trained model on unseen data\n",
    "print(f'TEST RMSE: {test_RMSE:.4f}')\n"
   ]
  },
  {
   "cell_type": "markdown",
   "metadata": {},
   "source": [
    "## Latent Factor Model"
   ]
  },
  {
   "cell_type": "markdown",
   "metadata": {},
   "source": [
    "The second approach we take is to use a latent factor model to predict the ratings on movies unseen by the users. <br>\n",
    "These models build a latent representation of movies and users, retaining the n most important features for the final prediction (where n is a value set before the learning phase and the features are latent). These models are great at capturing overall relations between datapoints, but have no concept of locality."
   ]
  },
  {
   "cell_type": "code",
   "execution_count": 16,
   "metadata": {},
   "outputs": [
    {
     "name": "stdout",
     "output_type": "stream",
     "text": [
      "Iteration 0, Train RMSE: 0.0323, Val RMSE: 2.5327\n",
      "Iteration 50, Train RMSE: 0.0209, Val RMSE: 1.5305\n",
      "Iteration 100, Train RMSE: 0.0194, Val RMSE: 1.4487\n",
      "Iteration 150, Train RMSE: 0.0188, Val RMSE: 1.4180\n",
      "Iteration 200, Train RMSE: 0.0184, Val RMSE: 1.4045\n",
      "Iteration 250, Train RMSE: 0.0183, Val RMSE: 1.3979\n",
      "Iteration 300, Train RMSE: 0.0182, Val RMSE: 1.3945\n",
      "Iteration 350, Train RMSE: 0.0181, Val RMSE: 1.3927\n",
      "Iteration 400, Train RMSE: 0.0181, Val RMSE: 1.3917\n",
      "Iteration 450, Train RMSE: 0.0180, Val RMSE: 1.3911\n",
      "Training Finished\n"
     ]
    }
   ],
   "source": [
    "n_factors = 50              # We want latent vectors to have 50 features\n",
    "U = np.random.rand(n_users, n_factors)      # We initialize U randomly\n",
    "M = np.random.rand(n_movies, n_factors)     # We initialize M randomly\n",
    "G = movie_genres.iloc[:, 2:].copy().to_numpy()\n",
    "\n",
    "U, M = train_latent_model(n_factors, 0.1, 500, R_train, R_val)\n"
   ]
  },
  {
   "cell_type": "code",
   "execution_count": 17,
   "metadata": {},
   "outputs": [
    {
     "name": "stdout",
     "output_type": "stream",
     "text": [
      "TEST RMSE: 1.3703\n"
     ]
    }
   ],
   "source": [
    "filled_ratings = U @ M.T\n",
    "test_RMSE = test_model(filled_ratings, R, R_test)   # Computing RMSE of the trained model on unseen data\n",
    "print(f'TEST RMSE: {test_RMSE:.4f}')"
   ]
  },
  {
   "cell_type": "markdown",
   "metadata": {},
   "source": [
    "## Neural Network based Latent Representations"
   ]
  },
  {
   "cell_type": "markdown",
   "metadata": {},
   "source": [
    "In the previous section, we minimized the regularized L2 norm to obtain good values of U and M. This approach was limited and computationally intensive, and likely could not capture all the important relations between datapoints. <br>\n",
    "In this section we propose the use of a Neural Network to learn the best possible embeddings for each user and for each movie."
   ]
  },
  {
   "cell_type": "code",
   "execution_count": 20,
   "metadata": {},
   "outputs": [
    {
     "name": "stdout",
     "output_type": "stream",
     "text": [
      "Model: \"model\"\n",
      "__________________________________________________________________________________________________\n",
      " Layer (type)                Output Shape                 Param #   Connected to                  \n",
      "==================================================================================================\n",
      " user_input (InputLayer)     [(None, 1)]                  0         []                            \n",
      "                                                                                                  \n",
      " movie_input (InputLayer)    [(None, 1)]                  0         []                            \n",
      "                                                                                                  \n",
      " user_embedding (Embedding)  (None, 1, 50)                30000     ['user_input[0][0]']          \n",
      "                                                                                                  \n",
      " movie_embedding (Embedding  (None, 1, 50)                100000    ['movie_input[0][0]']         \n",
      " )                                                                                                \n",
      "                                                                                                  \n",
      " flatten (Flatten)           (None, 50)                   0         ['user_embedding[0][0]']      \n",
      "                                                                                                  \n",
      " flatten_1 (Flatten)         (None, 50)                   0         ['movie_embedding[0][0]']     \n",
      "                                                                                                  \n",
      " concatenate (Concatenate)   (None, 100)                  0         ['flatten[0][0]',             \n",
      "                                                                     'flatten_1[0][0]']           \n",
      "                                                                                                  \n",
      " dense (Dense)               (None, 64)                   6464      ['concatenate[0][0]']         \n",
      "                                                                                                  \n",
      " dense_1 (Dense)             (None, 32)                   2080      ['dense[0][0]']               \n",
      "                                                                                                  \n",
      " multiply (Multiply)         (None, 50)                   0         ['flatten[0][0]',             \n",
      "                                                                     'flatten_1[0][0]']           \n",
      "                                                                                                  \n",
      " dense_2 (Dense)             (None, 16)                   528       ['dense_1[0][0]']             \n",
      "                                                                                                  \n",
      " concatenate_1 (Concatenate  (None, 66)                   0         ['multiply[0][0]',            \n",
      " )                                                                   'dense_2[0][0]']             \n",
      "                                                                                                  \n",
      " output_layer (Dense)        (None, 1)                    67        ['concatenate_1[0][0]']       \n",
      "                                                                                                  \n",
      "==================================================================================================\n",
      "Total params: 139139 (543.51 KB)\n",
      "Trainable params: 139139 (543.51 KB)\n",
      "Non-trainable params: 0 (0.00 Byte)\n",
      "__________________________________________________________________________________________________\n"
     ]
    }
   ],
   "source": [
    "n_users, n_movies = R.shape\n",
    "latent_dim = 50  \n",
    "\n",
    "nn_model = build_latent_nn(n_users, n_movies, latent_dim)\n",
    "nn_model.summary()"
   ]
  },
  {
   "cell_type": "markdown",
   "metadata": {},
   "source": [
    "As we can see, most of the parameters are in the two embedding layers. <br>\n",
    "The user embedding layers has n_users x 50 trainable parameters, so the model will learn the best 50-dimensional latent representation for each user. <br>\n",
    "The movie embedding layers has n_movie x 50 trainable parameters, and it will do the same as the user embedding layer. <br>\n",
    "Then there are 3 dense layers that take as input the concatenation of the user and movie embedding. <br>\n",
    "The final dense layer, which contains a sigmoid function to normalize the output between zero and one, runs on the concatenation of the output of the dense layers and the original embeddings. <br>\n"
   ]
  },
  {
   "cell_type": "code",
   "execution_count": 21,
   "metadata": {},
   "outputs": [
    {
     "data": {
      "image/png": "[encoded data removed]",
      "text/plain": [
       "<Figure size 1000x500 with 1 Axes>"
      ]
     },
     "metadata": {},
     "output_type": "display_data"
    }
   ],
   "source": [
    "train_users, train_movies = np.where(R_train > 0)       # Array of tuples of indices of (user, movie) that are nonzero\n",
    "val_users, val_movies = np.where(R_val > 0)  \n",
    "train_ratings = R[train_users, train_movies]/5          # We normalize ratings in [0,1]\n",
    "val_ratings = R[val_users, val_movies]/5\n",
    "\n",
    "history = nn_model.fit(\n",
    "    [train_users, train_movies], train_ratings,\n",
    "    validation_data=([val_users, val_movies], val_ratings),\n",
    "    epochs=200, batch_size=16,\n",
    "    verbose=0\n",
    ")\n",
    "\n",
    "train_rmse = history.history['root_mean_squared_error']\n",
    "val_rmse = history.history['val_root_mean_squared_error']\n",
    "\n",
    "plt.figure(figsize=(10, 5))\n",
    "plt.plot(train_rmse, label='Training RMSE')\n",
    "plt.plot(val_rmse, label='Validation RMSE', linestyle='dashed')\n",
    "plt.xlabel('Epochs')\n",
    "plt.ylabel('RMSE')\n",
    "plt.title('Training & Validation RMSE')\n",
    "plt.legend()\n",
    "plt.grid(True)\n",
    "plt.show()\n"
   ]
  },
  {
   "cell_type": "code",
   "execution_count": 45,
   "metadata": {},
   "outputs": [
    {
     "name": "stdout",
     "output_type": "stream",
     "text": [
      "37500/37500 [==============================] - 10s 277us/step\n"
     ]
    }
   ],
   "source": [
    "m, n = R.shape\n",
    "indices = np.array(list(np.ndindex(m, n)))\n",
    "\n",
    "users = indices[:, 0]  \n",
    "movies = indices[:, 1] \n",
    "\n",
    "predictions = nn_model.predict([users, movies])"
   ]
  },
  {
   "cell_type": "code",
   "execution_count": 46,
   "metadata": {},
   "outputs": [],
   "source": [
    "filled_ratings = predictions.reshape(m, n)\n",
    "rescaled_ratings = filled_ratings*5"
   ]
  },
  {
   "cell_type": "code",
   "execution_count": 47,
   "metadata": {},
   "outputs": [
    {
     "name": "stdout",
     "output_type": "stream",
     "text": [
      "TEST RMSE: 1.3304\n"
     ]
    }
   ],
   "source": [
    "test_RMSE = test_model(rescaled_ratings, R, R_test)   # Computing RMSE of the trained model on unseen data\n",
    "print(f'TEST RMSE: {test_RMSE:.4f}')"
   ]
  }
 ],
 "metadata": {
  "kernelspec": {
   "display_name": "recommendation",
   "language": "python",
   "name": "python3"
  },
  "language_info": {
   "codemirror_mode": {
    "name": "ipython",
    "version": 3
   },
   "file_extension": ".py",
   "mimetype": "text/x-python",
   "name": "python",
   "nbconvert_exporter": "python",
   "pygments_lexer": "ipython3",
   "version": "3.8.20"
  }
 },
 "nbformat": 4,
 "nbformat_minor": 2
}
