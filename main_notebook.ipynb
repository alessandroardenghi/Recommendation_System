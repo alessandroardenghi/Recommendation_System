{
 "cells": [
  {
   "cell_type": "markdown",
   "metadata": {},
   "source": [
    "# Recommendation Systems"
   ]
  },
  {
   "cell_type": "markdown",
   "metadata": {},
   "source": [
    "In this Notebook, we implement and evaluate different techniques to estimate user ratings to movies based on past predictions on similar movies and other users predictions. <br>\n",
    "We use a dataset that contains a list of movies with corresponding ratings for each user and a list of movies with corresponding genres."
   ]
  },
  {
   "cell_type": "code",
   "execution_count": 1,
   "metadata": {},
   "outputs": [],
   "source": [
    "from utils import create_train_test_masks, Jaccard_matrix, knn_estimation, train_latent_model, build_latent_nn, test_model, optimal_knn_model\n",
    "import pandas as pd\n",
    "import numpy as np\n",
    "from sklearn.metrics.pairwise import cosine_similarity\n",
    "from numpy.linalg import solve\n",
    "import matplotlib.pyplot as plt"
   ]
  },
  {
   "cell_type": "markdown",
   "metadata": {},
   "source": [
    "## Data Exploration"
   ]
  },
  {
   "cell_type": "code",
   "execution_count": 2,
   "metadata": {},
   "outputs": [],
   "source": [
    "movie_genres = pd.read_csv('movie_reviews/movie_genres.csv')\n",
    "user_reviews = pd.read_csv('movie_reviews/user_reviews.csv')"
   ]
  },
  {
   "cell_type": "code",
   "execution_count": 3,
   "metadata": {},
   "outputs": [
    {
     "name": "stdout",
     "output_type": "stream",
     "text": [
      "Dimensions: (2000, 27)\n"
     ]
    },
    {
     "data": {
      "text/html": [
       "<div>\n",
       "<style scoped>\n",
       "    .dataframe tbody tr th:only-of-type {\n",
       "        vertical-align: middle;\n",
       "    }\n",
       "\n",
       "    .dataframe tbody tr th {\n",
       "        vertical-align: top;\n",
       "    }\n",
       "\n",
       "    .dataframe thead th {\n",
       "        text-align: right;\n",
       "    }\n",
       "</style>\n",
       "<table border=\"1\" class=\"dataframe\">\n",
       "  <thead>\n",
       "    <tr style=\"text-align: right;\">\n",
       "      <th></th>\n",
       "      <th>Unnamed: 0</th>\n",
       "      <th>movie_title</th>\n",
       "      <th>genre_action</th>\n",
       "      <th>genre_adventure</th>\n",
       "      <th>genre_animation</th>\n",
       "      <th>genre_biography</th>\n",
       "      <th>genre_comedy</th>\n",
       "      <th>genre_crime</th>\n",
       "      <th>genre_documentary</th>\n",
       "      <th>genre_drama</th>\n",
       "      <th>...</th>\n",
       "      <th>genre_mystery</th>\n",
       "      <th>genre_news</th>\n",
       "      <th>genre_reality-tv</th>\n",
       "      <th>genre_romance</th>\n",
       "      <th>genre_sci-fi</th>\n",
       "      <th>genre_short</th>\n",
       "      <th>genre_sport</th>\n",
       "      <th>genre_thriller</th>\n",
       "      <th>genre_war</th>\n",
       "      <th>genre_western</th>\n",
       "    </tr>\n",
       "  </thead>\n",
       "  <tbody>\n",
       "    <tr>\n",
       "      <th>0</th>\n",
       "      <td>0</td>\n",
       "      <td>The Net</td>\n",
       "      <td>1</td>\n",
       "      <td>0</td>\n",
       "      <td>0</td>\n",
       "      <td>0</td>\n",
       "      <td>0</td>\n",
       "      <td>1</td>\n",
       "      <td>0</td>\n",
       "      <td>1</td>\n",
       "      <td>...</td>\n",
       "      <td>1</td>\n",
       "      <td>0</td>\n",
       "      <td>0</td>\n",
       "      <td>0</td>\n",
       "      <td>0</td>\n",
       "      <td>0</td>\n",
       "      <td>0</td>\n",
       "      <td>1</td>\n",
       "      <td>0</td>\n",
       "      <td>0</td>\n",
       "    </tr>\n",
       "    <tr>\n",
       "      <th>1</th>\n",
       "      <td>1</td>\n",
       "      <td>Happily N'Ever After</td>\n",
       "      <td>0</td>\n",
       "      <td>1</td>\n",
       "      <td>1</td>\n",
       "      <td>0</td>\n",
       "      <td>1</td>\n",
       "      <td>0</td>\n",
       "      <td>0</td>\n",
       "      <td>0</td>\n",
       "      <td>...</td>\n",
       "      <td>0</td>\n",
       "      <td>0</td>\n",
       "      <td>0</td>\n",
       "      <td>0</td>\n",
       "      <td>0</td>\n",
       "      <td>0</td>\n",
       "      <td>0</td>\n",
       "      <td>0</td>\n",
       "      <td>0</td>\n",
       "      <td>0</td>\n",
       "    </tr>\n",
       "    <tr>\n",
       "      <th>2</th>\n",
       "      <td>2</td>\n",
       "      <td>Tomorrowland</td>\n",
       "      <td>1</td>\n",
       "      <td>1</td>\n",
       "      <td>0</td>\n",
       "      <td>0</td>\n",
       "      <td>0</td>\n",
       "      <td>0</td>\n",
       "      <td>0</td>\n",
       "      <td>0</td>\n",
       "      <td>...</td>\n",
       "      <td>1</td>\n",
       "      <td>0</td>\n",
       "      <td>0</td>\n",
       "      <td>0</td>\n",
       "      <td>1</td>\n",
       "      <td>0</td>\n",
       "      <td>0</td>\n",
       "      <td>0</td>\n",
       "      <td>0</td>\n",
       "      <td>0</td>\n",
       "    </tr>\n",
       "    <tr>\n",
       "      <th>3</th>\n",
       "      <td>3</td>\n",
       "      <td>American Hero</td>\n",
       "      <td>1</td>\n",
       "      <td>0</td>\n",
       "      <td>0</td>\n",
       "      <td>0</td>\n",
       "      <td>1</td>\n",
       "      <td>0</td>\n",
       "      <td>0</td>\n",
       "      <td>1</td>\n",
       "      <td>...</td>\n",
       "      <td>0</td>\n",
       "      <td>0</td>\n",
       "      <td>0</td>\n",
       "      <td>0</td>\n",
       "      <td>1</td>\n",
       "      <td>0</td>\n",
       "      <td>0</td>\n",
       "      <td>0</td>\n",
       "      <td>0</td>\n",
       "      <td>0</td>\n",
       "    </tr>\n",
       "    <tr>\n",
       "      <th>4</th>\n",
       "      <td>4</td>\n",
       "      <td>Das Boot</td>\n",
       "      <td>0</td>\n",
       "      <td>1</td>\n",
       "      <td>0</td>\n",
       "      <td>0</td>\n",
       "      <td>0</td>\n",
       "      <td>0</td>\n",
       "      <td>0</td>\n",
       "      <td>1</td>\n",
       "      <td>...</td>\n",
       "      <td>0</td>\n",
       "      <td>0</td>\n",
       "      <td>0</td>\n",
       "      <td>0</td>\n",
       "      <td>0</td>\n",
       "      <td>0</td>\n",
       "      <td>0</td>\n",
       "      <td>1</td>\n",
       "      <td>1</td>\n",
       "      <td>0</td>\n",
       "    </tr>\n",
       "  </tbody>\n",
       "</table>\n",
       "<p>5 rows × 27 columns</p>\n",
       "</div>"
      ],
      "text/plain": [
       "   Unnamed: 0           movie_title  genre_action  genre_adventure  \\\n",
       "0           0               The Net             1                0   \n",
       "1           1  Happily N'Ever After             0                1   \n",
       "2           2          Tomorrowland             1                1   \n",
       "3           3         American Hero             1                0   \n",
       "4           4              Das Boot             0                1   \n",
       "\n",
       "   genre_animation  genre_biography  genre_comedy  genre_crime  \\\n",
       "0                0                0             0            1   \n",
       "1                1                0             1            0   \n",
       "2                0                0             0            0   \n",
       "3                0                0             1            0   \n",
       "4                0                0             0            0   \n",
       "\n",
       "   genre_documentary  genre_drama  ...  genre_mystery  genre_news  \\\n",
       "0                  0            1  ...              1           0   \n",
       "1                  0            0  ...              0           0   \n",
       "2                  0            0  ...              1           0   \n",
       "3                  0            1  ...              0           0   \n",
       "4                  0            1  ...              0           0   \n",
       "\n",
       "   genre_reality-tv  genre_romance  genre_sci-fi  genre_short  genre_sport  \\\n",
       "0                 0              0             0            0            0   \n",
       "1                 0              0             0            0            0   \n",
       "2                 0              0             1            0            0   \n",
       "3                 0              0             1            0            0   \n",
       "4                 0              0             0            0            0   \n",
       "\n",
       "   genre_thriller  genre_war  genre_western  \n",
       "0               1          0              0  \n",
       "1               0          0              0  \n",
       "2               0          0              0  \n",
       "3               0          0              0  \n",
       "4               1          1              0  \n",
       "\n",
       "[5 rows x 27 columns]"
      ]
     },
     "execution_count": 3,
     "metadata": {},
     "output_type": "execute_result"
    }
   ],
   "source": [
    "print(f'Dimensions: {movie_genres.shape}')\n",
    "movie_genres.head()"
   ]
  },
  {
   "cell_type": "markdown",
   "metadata": {},
   "source": [
    "As we can see, the movie_genres dataset contains 2000 movies, and each of them has 25 possible genres."
   ]
  },
  {
   "cell_type": "code",
   "execution_count": 4,
   "metadata": {},
   "outputs": [
    {
     "name": "stdout",
     "output_type": "stream",
     "text": [
      "Dimensions: (600, 2002)\n"
     ]
    },
    {
     "data": {
      "text/html": [
       "<div>\n",
       "<style scoped>\n",
       "    .dataframe tbody tr th:only-of-type {\n",
       "        vertical-align: middle;\n",
       "    }\n",
       "\n",
       "    .dataframe tbody tr th {\n",
       "        vertical-align: top;\n",
       "    }\n",
       "\n",
       "    .dataframe thead th {\n",
       "        text-align: right;\n",
       "    }\n",
       "</style>\n",
       "<table border=\"1\" class=\"dataframe\">\n",
       "  <thead>\n",
       "    <tr style=\"text-align: right;\">\n",
       "      <th></th>\n",
       "      <th>Unnamed: 0</th>\n",
       "      <th>User</th>\n",
       "      <th>The Net</th>\n",
       "      <th>Happily N'Ever After</th>\n",
       "      <th>Tomorrowland</th>\n",
       "      <th>American Hero</th>\n",
       "      <th>Das Boot</th>\n",
       "      <th>Final Destination 3</th>\n",
       "      <th>Licence to Kill</th>\n",
       "      <th>The Hundred-Foot Journey</th>\n",
       "      <th>...</th>\n",
       "      <th>The Martian</th>\n",
       "      <th>Micmacs</th>\n",
       "      <th>Solomon and Sheba</th>\n",
       "      <th>In the Company of Men</th>\n",
       "      <th>Silent House</th>\n",
       "      <th>Big Fish</th>\n",
       "      <th>Get Real</th>\n",
       "      <th>Trading Places</th>\n",
       "      <th>DOA: Dead or Alive</th>\n",
       "      <th>Hey Arnold! The Movie</th>\n",
       "    </tr>\n",
       "  </thead>\n",
       "  <tbody>\n",
       "    <tr>\n",
       "      <th>0</th>\n",
       "      <td>0</td>\n",
       "      <td>Vincent</td>\n",
       "      <td>0.0</td>\n",
       "      <td>0.0</td>\n",
       "      <td>0.0</td>\n",
       "      <td>0.0</td>\n",
       "      <td>0.0</td>\n",
       "      <td>0.0</td>\n",
       "      <td>0.0</td>\n",
       "      <td>0.0</td>\n",
       "      <td>...</td>\n",
       "      <td>0.0</td>\n",
       "      <td>0.0</td>\n",
       "      <td>0.0</td>\n",
       "      <td>0.0</td>\n",
       "      <td>0.0</td>\n",
       "      <td>0.0</td>\n",
       "      <td>0.0</td>\n",
       "      <td>0.0</td>\n",
       "      <td>0.0</td>\n",
       "      <td>0.0</td>\n",
       "    </tr>\n",
       "    <tr>\n",
       "      <th>1</th>\n",
       "      <td>1</td>\n",
       "      <td>Edgar</td>\n",
       "      <td>0.0</td>\n",
       "      <td>0.0</td>\n",
       "      <td>0.0</td>\n",
       "      <td>0.0</td>\n",
       "      <td>0.0</td>\n",
       "      <td>0.0</td>\n",
       "      <td>0.0</td>\n",
       "      <td>0.0</td>\n",
       "      <td>...</td>\n",
       "      <td>0.0</td>\n",
       "      <td>0.0</td>\n",
       "      <td>0.0</td>\n",
       "      <td>0.0</td>\n",
       "      <td>0.0</td>\n",
       "      <td>0.0</td>\n",
       "      <td>0.0</td>\n",
       "      <td>0.0</td>\n",
       "      <td>0.0</td>\n",
       "      <td>0.0</td>\n",
       "    </tr>\n",
       "    <tr>\n",
       "      <th>2</th>\n",
       "      <td>2</td>\n",
       "      <td>Addilyn</td>\n",
       "      <td>0.0</td>\n",
       "      <td>0.0</td>\n",
       "      <td>0.0</td>\n",
       "      <td>0.0</td>\n",
       "      <td>0.0</td>\n",
       "      <td>0.0</td>\n",
       "      <td>0.0</td>\n",
       "      <td>0.0</td>\n",
       "      <td>...</td>\n",
       "      <td>0.0</td>\n",
       "      <td>0.0</td>\n",
       "      <td>0.0</td>\n",
       "      <td>0.0</td>\n",
       "      <td>0.0</td>\n",
       "      <td>0.0</td>\n",
       "      <td>0.0</td>\n",
       "      <td>0.0</td>\n",
       "      <td>0.0</td>\n",
       "      <td>0.0</td>\n",
       "    </tr>\n",
       "    <tr>\n",
       "      <th>3</th>\n",
       "      <td>3</td>\n",
       "      <td>Marlee</td>\n",
       "      <td>0.0</td>\n",
       "      <td>0.0</td>\n",
       "      <td>0.0</td>\n",
       "      <td>0.0</td>\n",
       "      <td>0.0</td>\n",
       "      <td>0.0</td>\n",
       "      <td>0.0</td>\n",
       "      <td>0.0</td>\n",
       "      <td>...</td>\n",
       "      <td>0.0</td>\n",
       "      <td>0.0</td>\n",
       "      <td>0.0</td>\n",
       "      <td>0.0</td>\n",
       "      <td>0.0</td>\n",
       "      <td>0.0</td>\n",
       "      <td>0.0</td>\n",
       "      <td>0.0</td>\n",
       "      <td>0.0</td>\n",
       "      <td>0.0</td>\n",
       "    </tr>\n",
       "    <tr>\n",
       "      <th>4</th>\n",
       "      <td>4</td>\n",
       "      <td>Javier</td>\n",
       "      <td>0.0</td>\n",
       "      <td>0.0</td>\n",
       "      <td>0.0</td>\n",
       "      <td>0.0</td>\n",
       "      <td>0.0</td>\n",
       "      <td>0.0</td>\n",
       "      <td>0.0</td>\n",
       "      <td>0.0</td>\n",
       "      <td>...</td>\n",
       "      <td>0.0</td>\n",
       "      <td>0.0</td>\n",
       "      <td>0.0</td>\n",
       "      <td>0.0</td>\n",
       "      <td>0.0</td>\n",
       "      <td>0.0</td>\n",
       "      <td>0.0</td>\n",
       "      <td>0.0</td>\n",
       "      <td>0.0</td>\n",
       "      <td>0.0</td>\n",
       "    </tr>\n",
       "  </tbody>\n",
       "</table>\n",
       "<p>5 rows × 2002 columns</p>\n",
       "</div>"
      ],
      "text/plain": [
       "   Unnamed: 0     User  The Net  Happily N'Ever After  Tomorrowland  \\\n",
       "0           0  Vincent      0.0                   0.0           0.0   \n",
       "1           1    Edgar      0.0                   0.0           0.0   \n",
       "2           2  Addilyn      0.0                   0.0           0.0   \n",
       "3           3   Marlee      0.0                   0.0           0.0   \n",
       "4           4   Javier      0.0                   0.0           0.0   \n",
       "\n",
       "   American Hero  Das Boot  Final Destination 3  Licence to Kill  \\\n",
       "0            0.0       0.0                  0.0              0.0   \n",
       "1            0.0       0.0                  0.0              0.0   \n",
       "2            0.0       0.0                  0.0              0.0   \n",
       "3            0.0       0.0                  0.0              0.0   \n",
       "4            0.0       0.0                  0.0              0.0   \n",
       "\n",
       "   The Hundred-Foot Journey  ...  The Martian  Micmacs  Solomon and Sheba  \\\n",
       "0                       0.0  ...          0.0      0.0                0.0   \n",
       "1                       0.0  ...          0.0      0.0                0.0   \n",
       "2                       0.0  ...          0.0      0.0                0.0   \n",
       "3                       0.0  ...          0.0      0.0                0.0   \n",
       "4                       0.0  ...          0.0      0.0                0.0   \n",
       "\n",
       "   In the Company of Men  Silent House  Big Fish  Get Real  Trading Places  \\\n",
       "0                    0.0           0.0       0.0       0.0             0.0   \n",
       "1                    0.0           0.0       0.0       0.0             0.0   \n",
       "2                    0.0           0.0       0.0       0.0             0.0   \n",
       "3                    0.0           0.0       0.0       0.0             0.0   \n",
       "4                    0.0           0.0       0.0       0.0             0.0   \n",
       "\n",
       "   DOA: Dead or Alive  Hey Arnold! The Movie  \n",
       "0                 0.0                    0.0  \n",
       "1                 0.0                    0.0  \n",
       "2                 0.0                    0.0  \n",
       "3                 0.0                    0.0  \n",
       "4                 0.0                    0.0  \n",
       "\n",
       "[5 rows x 2002 columns]"
      ]
     },
     "execution_count": 4,
     "metadata": {},
     "output_type": "execute_result"
    }
   ],
   "source": [
    "print(f'Dimensions: {user_reviews.shape}')\n",
    "user_reviews.head()"
   ]
  },
  {
   "cell_type": "markdown",
   "metadata": {},
   "source": [
    "In this case, the user_reviews dataframe contains 600 rows corresponding to users and 2000 rows corresponding to movies. The movies match the ones seen in the movie_genres dataframe."
   ]
  },
  {
   "cell_type": "code",
   "execution_count": 5,
   "metadata": {},
   "outputs": [],
   "source": [
    "# We define the matrix of Ratings and the matrix of Genres\n",
    "R = user_reviews.iloc[:, 2:].copy().to_numpy()  \n",
    "G = movie_genres.iloc[:, 2:].copy()\n",
    "n_users, n_movies = R.shape"
   ]
  },
  {
   "cell_type": "code",
   "execution_count": 6,
   "metadata": {},
   "outputs": [
    {
     "name": "stdout",
     "output_type": "stream",
     "text": [
      "Ratings in R:\t\t 16525\n",
      "Ratings in R_train:\t 11897\n",
      "Ratings in R_val:\t 2975\n",
      "Ratings in R_test:\t 1653\n"
     ]
    }
   ],
   "source": [
    "R_rest, R_test = create_train_test_masks(R, 0.9)\n",
    "\n",
    "assert R_rest[R_rest != 0].shape[0] + R_test[R_test != 0].shape[0] == R[R != 0].shape[0]\n",
    "\n",
    "R_train, R_val = create_train_test_masks(R_rest, 0.8)\n",
    "\n",
    "assert R_train[R_train != 0].shape[0] + R_val[R_val != 0].shape[0] == R_rest[R_rest != 0].shape[0]\n",
    "assert R_train[R_train != 0].shape[0] + R_val[R_val != 0].shape[0] + R_test[R_test != 0].shape[0] == R[R != 0].shape[0]\n",
    "\n",
    "print(f\"Ratings in R:\\t\\t {np.sum(R > 0)}\")\n",
    "print(f\"Ratings in R_train:\\t {np.sum(R_train > 0)}\")\n",
    "print(f\"Ratings in R_val:\\t {np.sum(R_val > 0)}\")\n",
    "print(f\"Ratings in R_test:\\t {np.sum(R_test > 0)}\")"
   ]
  },
  {
   "cell_type": "markdown",
   "metadata": {},
   "source": [
    "## K-NN Approach"
   ]
  },
  {
   "cell_type": "markdown",
   "metadata": {},
   "source": [
    "In this section, we implement a classical method for predicting movie ratings based on the K-NN method. Here we exploit the local relationships between movies that are close (according to some meaninful metric) to output a good prediction. <br>\n",
    "The method is good at learning local structures, but lacks the capabilities to learn weak signals between datapoints that are far. Nonetheless, it can still output good predictions."
   ]
  },
  {
   "cell_type": "markdown",
   "metadata": {},
   "source": [
    "### Neighborhood Parameter Finetuning"
   ]
  },
  {
   "cell_type": "markdown",
   "metadata": {},
   "source": [
    "The KNN method is based on selecting a neighborhood around each datapoint, and then using the local information to make a prediction about it. It is therefore crucial to select a distance parameter as threshold to select which elements are in the neighborhood and which are not. In this section we first optimize over that parameter, and then we run the KNN prediction and see the results."
   ]
  },
  {
   "cell_type": "code",
   "execution_count": 7,
   "metadata": {},
   "outputs": [
    {
     "name": "stdout",
     "output_type": "stream",
     "text": [
      "Testing threshold: 0.1\n"
     ]
    },
    {
     "name": "stderr",
     "output_type": "stream",
     "text": [
      "Users Processed::   0%|          | 0/600 [00:00<?, ?it/s]/Users/alessandroardenghi/AILAB/Recommendation_System/utils.py:89: RuntimeWarning: Mean of empty slice\n",
      "  b_u = np.nanmean(user_reviews.replace(0, np.nan), axis=0)\n",
      "Users Processed:: 100%|██████████| 600/600 [02:04<00:00,  4.82it/s]\n"
     ]
    },
    {
     "name": "stdout",
     "output_type": "stream",
     "text": [
      "RMSE: 1.1509816259787964\n",
      "Testing threshold: 0.18333333333333335\n"
     ]
    },
    {
     "name": "stderr",
     "output_type": "stream",
     "text": [
      "Users Processed:: 100%|██████████| 600/600 [01:39<00:00,  6.05it/s]\n"
     ]
    },
    {
     "name": "stdout",
     "output_type": "stream",
     "text": [
      "RMSE: 1.149349441689475\n",
      "Testing threshold: 0.26666666666666666\n"
     ]
    },
    {
     "name": "stderr",
     "output_type": "stream",
     "text": [
      "Users Processed:: 100%|██████████| 600/600 [01:01<00:00,  9.80it/s]\n"
     ]
    },
    {
     "name": "stdout",
     "output_type": "stream",
     "text": [
      "RMSE: 1.1758152154778045\n",
      "Testing threshold: 0.35\n"
     ]
    },
    {
     "name": "stderr",
     "output_type": "stream",
     "text": [
      "Users Processed:: 100%|██████████| 600/600 [00:42<00:00, 14.27it/s]\n"
     ]
    },
    {
     "name": "stdout",
     "output_type": "stream",
     "text": [
      "RMSE: 1.203819476448113\n",
      "Testing threshold: 0.43333333333333335\n"
     ]
    },
    {
     "name": "stderr",
     "output_type": "stream",
     "text": [
      "Users Processed:: 100%|██████████| 600/600 [00:34<00:00, 17.20it/s]\n"
     ]
    },
    {
     "name": "stdout",
     "output_type": "stream",
     "text": [
      "RMSE: 1.2163234104071214\n",
      "Testing threshold: 0.5166666666666666\n"
     ]
    },
    {
     "name": "stderr",
     "output_type": "stream",
     "text": [
      "Users Processed:: 100%|██████████| 600/600 [00:21<00:00, 28.18it/s]\n"
     ]
    },
    {
     "name": "stdout",
     "output_type": "stream",
     "text": [
      "RMSE: 1.2539032777936319\n",
      "Testing threshold: 0.6\n"
     ]
    },
    {
     "name": "stderr",
     "output_type": "stream",
     "text": [
      "Users Processed:: 100%|██████████| 600/600 [00:21<00:00, 28.28it/s]"
     ]
    },
    {
     "name": "stdout",
     "output_type": "stream",
     "text": [
      "RMSE: 1.250750180558447\n",
      "\n",
      "Best threshold: 0.18333333333333335 with RMSE: 1.149349441689475\n",
      "Best threshold: 0.18333333333333335, Best error: 1.149349441689475\n"
     ]
    },
    {
     "name": "stderr",
     "output_type": "stream",
     "text": [
      "\n"
     ]
    }
   ],
   "source": [
    "# finetuning of the hyperparameter and get the best model\n",
    "\n",
    "interval = np.linspace(0.1, 0.6, 7)\n",
    "best_threshold, best_error, best_predictions = optimal_knn_model(interval, R_rest, R_train, R_val, G)\n",
    "\n",
    "print(f\"Best threshold: {best_threshold}, Best error: {best_error}\")"
   ]
  },
  {
   "cell_type": "markdown",
   "metadata": {},
   "source": [
    "We can see the ratings predicted for the first 5 users:"
   ]
  },
  {
   "cell_type": "code",
   "execution_count": 8,
   "metadata": {},
   "outputs": [
    {
     "data": {
      "text/html": [
       "<div>\n",
       "<style scoped>\n",
       "    .dataframe tbody tr th:only-of-type {\n",
       "        vertical-align: middle;\n",
       "    }\n",
       "\n",
       "    .dataframe tbody tr th {\n",
       "        vertical-align: top;\n",
       "    }\n",
       "\n",
       "    .dataframe thead th {\n",
       "        text-align: right;\n",
       "    }\n",
       "</style>\n",
       "<table border=\"1\" class=\"dataframe\">\n",
       "  <thead>\n",
       "    <tr style=\"text-align: right;\">\n",
       "      <th></th>\n",
       "      <th>0</th>\n",
       "      <th>1</th>\n",
       "      <th>2</th>\n",
       "      <th>3</th>\n",
       "      <th>4</th>\n",
       "      <th>5</th>\n",
       "      <th>6</th>\n",
       "      <th>7</th>\n",
       "      <th>8</th>\n",
       "      <th>9</th>\n",
       "      <th>...</th>\n",
       "      <th>1990</th>\n",
       "      <th>1991</th>\n",
       "      <th>1992</th>\n",
       "      <th>1993</th>\n",
       "      <th>1994</th>\n",
       "      <th>1995</th>\n",
       "      <th>1996</th>\n",
       "      <th>1997</th>\n",
       "      <th>1998</th>\n",
       "      <th>1999</th>\n",
       "    </tr>\n",
       "  </thead>\n",
       "  <tbody>\n",
       "    <tr>\n",
       "      <th>0</th>\n",
       "      <td>4.588884</td>\n",
       "      <td>3.012325</td>\n",
       "      <td>3.914141</td>\n",
       "      <td>4.057475</td>\n",
       "      <td>4.936591</td>\n",
       "      <td>4.738095</td>\n",
       "      <td>3.568338</td>\n",
       "      <td>4.007378</td>\n",
       "      <td>3.156014</td>\n",
       "      <td>4.332298</td>\n",
       "      <td>...</td>\n",
       "      <td>4.157913</td>\n",
       "      <td>3.669157</td>\n",
       "      <td>3.814479</td>\n",
       "      <td>3.793093</td>\n",
       "      <td>4.963191</td>\n",
       "      <td>3.766305</td>\n",
       "      <td>4.340441</td>\n",
       "      <td>2.970434</td>\n",
       "      <td>2.826681</td>\n",
       "      <td>3.874092</td>\n",
       "    </tr>\n",
       "    <tr>\n",
       "      <th>1</th>\n",
       "      <td>4.198374</td>\n",
       "      <td>4.800000</td>\n",
       "      <td>4.074849</td>\n",
       "      <td>4.008646</td>\n",
       "      <td>5.171600</td>\n",
       "      <td>2.433333</td>\n",
       "      <td>3.492457</td>\n",
       "      <td>4.049064</td>\n",
       "      <td>2.999289</td>\n",
       "      <td>3.096997</td>\n",
       "      <td>...</td>\n",
       "      <td>4.158986</td>\n",
       "      <td>3.262096</td>\n",
       "      <td>4.872572</td>\n",
       "      <td>3.834778</td>\n",
       "      <td>4.408088</td>\n",
       "      <td>4.060333</td>\n",
       "      <td>4.846321</td>\n",
       "      <td>2.465816</td>\n",
       "      <td>3.017146</td>\n",
       "      <td>4.285714</td>\n",
       "    </tr>\n",
       "    <tr>\n",
       "      <th>2</th>\n",
       "      <td>3.447722</td>\n",
       "      <td>4.386459</td>\n",
       "      <td>3.732973</td>\n",
       "      <td>3.811267</td>\n",
       "      <td>4.147644</td>\n",
       "      <td>3.334145</td>\n",
       "      <td>3.160659</td>\n",
       "      <td>3.996604</td>\n",
       "      <td>2.442644</td>\n",
       "      <td>2.915192</td>\n",
       "      <td>...</td>\n",
       "      <td>3.535181</td>\n",
       "      <td>4.066504</td>\n",
       "      <td>3.685446</td>\n",
       "      <td>3.782318</td>\n",
       "      <td>3.777079</td>\n",
       "      <td>3.503739</td>\n",
       "      <td>4.552764</td>\n",
       "      <td>3.836979</td>\n",
       "      <td>2.614969</td>\n",
       "      <td>4.795469</td>\n",
       "    </tr>\n",
       "    <tr>\n",
       "      <th>3</th>\n",
       "      <td>4.983321</td>\n",
       "      <td>3.663954</td>\n",
       "      <td>4.595273</td>\n",
       "      <td>3.478105</td>\n",
       "      <td>5.208181</td>\n",
       "      <td>2.927536</td>\n",
       "      <td>3.837135</td>\n",
       "      <td>3.395926</td>\n",
       "      <td>3.032143</td>\n",
       "      <td>3.596820</td>\n",
       "      <td>...</td>\n",
       "      <td>3.760215</td>\n",
       "      <td>3.606819</td>\n",
       "      <td>3.698280</td>\n",
       "      <td>3.181640</td>\n",
       "      <td>4.593239</td>\n",
       "      <td>3.475926</td>\n",
       "      <td>3.875444</td>\n",
       "      <td>2.527944</td>\n",
       "      <td>2.772565</td>\n",
       "      <td>3.834893</td>\n",
       "    </tr>\n",
       "    <tr>\n",
       "      <th>4</th>\n",
       "      <td>2.861898</td>\n",
       "      <td>4.327844</td>\n",
       "      <td>4.472222</td>\n",
       "      <td>3.296695</td>\n",
       "      <td>3.737256</td>\n",
       "      <td>2.619048</td>\n",
       "      <td>3.386905</td>\n",
       "      <td>3.391801</td>\n",
       "      <td>3.169643</td>\n",
       "      <td>2.442857</td>\n",
       "      <td>...</td>\n",
       "      <td>3.090183</td>\n",
       "      <td>3.358899</td>\n",
       "      <td>3.386805</td>\n",
       "      <td>3.177516</td>\n",
       "      <td>3.256136</td>\n",
       "      <td>2.812300</td>\n",
       "      <td>4.053542</td>\n",
       "      <td>3.041209</td>\n",
       "      <td>2.929487</td>\n",
       "      <td>5.006389</td>\n",
       "    </tr>\n",
       "  </tbody>\n",
       "</table>\n",
       "<p>5 rows × 2000 columns</p>\n",
       "</div>"
      ],
      "text/plain": [
       "       0         1         2         3         4         5         6     \\\n",
       "0  4.588884  3.012325  3.914141  4.057475  4.936591  4.738095  3.568338   \n",
       "1  4.198374  4.800000  4.074849  4.008646  5.171600  2.433333  3.492457   \n",
       "2  3.447722  4.386459  3.732973  3.811267  4.147644  3.334145  3.160659   \n",
       "3  4.983321  3.663954  4.595273  3.478105  5.208181  2.927536  3.837135   \n",
       "4  2.861898  4.327844  4.472222  3.296695  3.737256  2.619048  3.386905   \n",
       "\n",
       "       7         8         9     ...      1990      1991      1992      1993  \\\n",
       "0  4.007378  3.156014  4.332298  ...  4.157913  3.669157  3.814479  3.793093   \n",
       "1  4.049064  2.999289  3.096997  ...  4.158986  3.262096  4.872572  3.834778   \n",
       "2  3.996604  2.442644  2.915192  ...  3.535181  4.066504  3.685446  3.782318   \n",
       "3  3.395926  3.032143  3.596820  ...  3.760215  3.606819  3.698280  3.181640   \n",
       "4  3.391801  3.169643  2.442857  ...  3.090183  3.358899  3.386805  3.177516   \n",
       "\n",
       "       1994      1995      1996      1997      1998      1999  \n",
       "0  4.963191  3.766305  4.340441  2.970434  2.826681  3.874092  \n",
       "1  4.408088  4.060333  4.846321  2.465816  3.017146  4.285714  \n",
       "2  3.777079  3.503739  4.552764  3.836979  2.614969  4.795469  \n",
       "3  4.593239  3.475926  3.875444  2.527944  2.772565  3.834893  \n",
       "4  3.256136  2.812300  4.053542  3.041209  2.929487  5.006389  \n",
       "\n",
       "[5 rows x 2000 columns]"
      ]
     },
     "execution_count": 8,
     "metadata": {},
     "output_type": "execute_result"
    }
   ],
   "source": [
    "best_predictions.head()"
   ]
  },
  {
   "cell_type": "markdown",
   "metadata": {},
   "source": [
    "## Latent Factor Model"
   ]
  },
  {
   "cell_type": "markdown",
   "metadata": {},
   "source": [
    "The second approach we take is to use a latent factor model to predict the ratings on movies unseen by the users. <br>\n",
    "These models build a latent representation of movies and users, retaining the n most important features for the final prediction (where n is a value set before the learning phase and the features are latent). These models are great at capturing overall relations between datapoints, but have no concept of locality."
   ]
  },
  {
   "cell_type": "code",
   "execution_count": 9,
   "metadata": {},
   "outputs": [
    {
     "name": "stdout",
     "output_type": "stream",
     "text": [
      "Iteration 0, Train RMSE: 0.0323, Val RMSE: 2.5327\n",
      "Iteration 50, Train RMSE: 0.0209, Val RMSE: 1.5305\n",
      "Iteration 100, Train RMSE: 0.0194, Val RMSE: 1.4487\n",
      "Iteration 150, Train RMSE: 0.0188, Val RMSE: 1.4180\n",
      "Iteration 200, Train RMSE: 0.0184, Val RMSE: 1.4045\n",
      "Iteration 250, Train RMSE: 0.0183, Val RMSE: 1.3979\n",
      "Iteration 300, Train RMSE: 0.0182, Val RMSE: 1.3945\n",
      "Iteration 350, Train RMSE: 0.0181, Val RMSE: 1.3927\n",
      "Iteration 400, Train RMSE: 0.0181, Val RMSE: 1.3917\n",
      "Iteration 450, Train RMSE: 0.0180, Val RMSE: 1.3911\n",
      "Training Finished\n"
     ]
    }
   ],
   "source": [
    "n_factors = 50              # We want latent vectors to have 50 features\n",
    "U = np.random.rand(n_users, n_factors)      # We initialize U randomly\n",
    "M = np.random.rand(n_movies, n_factors)     # We initialize M randomly\n",
    "G = movie_genres.iloc[:, 2:].copy().to_numpy()\n",
    "\n",
    "U, M = train_latent_model(n_factors, 0.1, 500, R_train, R_val)\n"
   ]
  },
  {
   "cell_type": "code",
   "execution_count": 14,
   "metadata": {},
   "outputs": [
    {
     "name": "stdout",
     "output_type": "stream",
     "text": [
      "TEST RMSE: 1.3703\n"
     ]
    }
   ],
   "source": [
    "filled_ratings = U @ M.T\n",
    "test_RMSE = test_model(filled_ratings, R, R_test)   # Computing RMSE of the trained model on unseen data\n",
    "print(f'TEST RMSE: {test_RMSE:.4f}')"
   ]
  },
  {
   "cell_type": "markdown",
   "metadata": {},
   "source": [
    "## Neural Network based Latent Representations"
   ]
  },
  {
   "cell_type": "markdown",
   "metadata": {},
   "source": [
    "In the previous section, we minimized the regularized L2 norm to obtain good values of U and M. This approach was limited and computationally intensive, and likely could not capture all the important relations between datapoints. <br>\n",
    "In this section we propose the use of a Neural Network to learn the best possible embeddings for each user and for each movie."
   ]
  },
  {
   "cell_type": "code",
   "execution_count": 15,
   "metadata": {},
   "outputs": [
    {
     "name": "stdout",
     "output_type": "stream",
     "text": [
      "Model: \"model\"\n",
      "__________________________________________________________________________________________________\n",
      " Layer (type)                Output Shape                 Param #   Connected to                  \n",
      "==================================================================================================\n",
      " user_input (InputLayer)     [(None, 1)]                  0         []                            \n",
      "                                                                                                  \n",
      " movie_input (InputLayer)    [(None, 1)]                  0         []                            \n",
      "                                                                                                  \n",
      " user_embedding (Embedding)  (None, 1, 1000)              600000    ['user_input[0][0]']          \n",
      "                                                                                                  \n",
      " movie_embedding (Embedding  (None, 1, 1000)              2000000   ['movie_input[0][0]']         \n",
      " )                                                                                                \n",
      "                                                                                                  \n",
      " flatten (Flatten)           (None, 1000)                 0         ['user_embedding[0][0]']      \n",
      "                                                                                                  \n",
      " flatten_1 (Flatten)         (None, 1000)                 0         ['movie_embedding[0][0]']     \n",
      "                                                                                                  \n",
      " concatenate (Concatenate)   (None, 2000)                 0         ['flatten[0][0]',             \n",
      "                                                                     'flatten_1[0][0]']           \n",
      "                                                                                                  \n",
      " dense (Dense)               (None, 64)                   128064    ['concatenate[0][0]']         \n",
      "                                                                                                  \n",
      " dense_1 (Dense)             (None, 32)                   2080      ['dense[0][0]']               \n",
      "                                                                                                  \n",
      " multiply (Multiply)         (None, 1000)                 0         ['flatten[0][0]',             \n",
      "                                                                     'flatten_1[0][0]']           \n",
      "                                                                                                  \n",
      " dense_2 (Dense)             (None, 16)                   528       ['dense_1[0][0]']             \n",
      "                                                                                                  \n",
      " concatenate_1 (Concatenate  (None, 1016)                 0         ['multiply[0][0]',            \n",
      " )                                                                   'dense_2[0][0]']             \n",
      "                                                                                                  \n",
      " output_layer (Dense)        (None, 1)                    1017      ['concatenate_1[0][0]']       \n",
      "                                                                                                  \n",
      "==================================================================================================\n",
      "Total params: 2731689 (10.42 MB)\n",
      "Trainable params: 2731689 (10.42 MB)\n",
      "Non-trainable params: 0 (0.00 Byte)\n",
      "__________________________________________________________________________________________________\n"
     ]
    }
   ],
   "source": [
    "n_users, n_movies = R.shape\n",
    "latent_dim = 1000  \n",
    "\n",
    "nn_model = build_latent_nn(n_users, n_movies, latent_dim)\n",
    "nn_model.summary()"
   ]
  },
  {
   "cell_type": "markdown",
   "metadata": {},
   "source": [
    "As we can see, most of the parameters are in the two embedding layers. <br>\n",
    "The user embedding layers has n_users x 50 trainable parameters, so the model will learn the best 50-dimensional latent representation for each user. <br>\n",
    "The movie embedding layers has n_movie x 50 trainable parameters, and it will do the same as the user embedding layer. <br>\n",
    "Then there are 3 dense layers that take as input the concatenation of the user and movie embedding. <br>\n",
    "The final dense layer, which contains a sigmoid function to normalize the output between zero and one, runs on the concatenation of the output of the dense layers and the original embeddings. <br>\n"
   ]
  },
  {
   "cell_type": "code",
   "execution_count": null,
   "metadata": {},
   "outputs": [
    {
     "data": {
      "image/png": "[encoded data removed]",
      "text/plain": [
       "<Figure size 1000x500 with 1 Axes>"
      ]
     },
     "metadata": {},
     "output_type": "display_data"
    }
   ],
   "source": [
    "train_users, train_movies = np.where(R_train > 0)       # Array of tuples of indices of (user, movie) that are nonzero\n",
    "val_users, val_movies = np.where(R_val > 0)  \n",
    "train_ratings = R[train_users, train_movies]/5          # We normalize ratings in [0,1]\n",
    "val_ratings = R[val_users, val_movies]/5\n",
    "\n",
    "history = nn_model.fit(\n",
    "    [train_users, train_movies], train_ratings,\n",
    "    validation_data=([val_users, val_movies], val_ratings),\n",
    "    epochs=20, batch_size=16,\n",
    "    verbose=0\n",
    ")\n",
    "\n",
    "train_rmse = history.history['root_mean_squared_error']\n",
    "val_rmse = history.history['val_root_mean_squared_error']\n",
    "\n",
    "plt.figure(figsize=(10, 5))\n",
    "plt.plot(train_rmse, label='Training RMSE')\n",
    "plt.plot(val_rmse, label='Validation RMSE', linestyle='dashed')\n",
    "plt.xlabel('Epochs')\n",
    "plt.ylabel('RMSE')\n",
    "plt.title('Training & Validation RMSE')\n",
    "plt.legend()\n",
    "plt.grid(True)\n",
    "plt.show()\n"
   ]
  },
  {
   "cell_type": "code",
   "execution_count": 17,
   "metadata": {},
   "outputs": [
    {
     "name": "stdout",
     "output_type": "stream",
     "text": [
      "37500/37500 [==============================] - 21s 548us/step\n"
     ]
    }
   ],
   "source": [
    "m, n = R.shape\n",
    "indices = np.array(list(np.ndindex(m, n)))\n",
    "\n",
    "users = indices[:, 0]  \n",
    "movies = indices[:, 1] \n",
    "\n",
    "predictions = nn_model.predict([users, movies])"
   ]
  },
  {
   "cell_type": "code",
   "execution_count": 18,
   "metadata": {},
   "outputs": [],
   "source": [
    "filled_ratings = predictions.reshape(m, n)\n",
    "rescaled_ratings = filled_ratings*5"
   ]
  },
  {
   "cell_type": "code",
   "execution_count": 19,
   "metadata": {},
   "outputs": [
    {
     "name": "stdout",
     "output_type": "stream",
     "text": [
      "TEST RMSE: 1.2160\n"
     ]
    }
   ],
   "source": [
    "test_RMSE = test_model(rescaled_ratings, R, R_test)   # Computing RMSE of the trained model on unseen data\n",
    "print(f'TEST RMSE: {test_RMSE:.4f}')"
   ]
  },
  {
   "cell_type": "markdown",
   "metadata": {},
   "source": [
    "## Ensemble Methods"
   ]
  },
  {
   "cell_type": "markdown",
   "metadata": {},
   "source": [
    "As highlighted in the paper 'Lessons from the Netflix Prize Challenge', neither the KNN nor the latent factor models are able to fully capture the relations between points. Methods based on neighborhoods are good at understanding local relationships, but fail with weak signals from datapoints that are far. Latent factor models are good at modelling overall relations but do not capture local information well. <br>\n",
    "In this section, we try to mix the results obtained by the two methods to obtain our final predictions."
   ]
  },
  {
   "cell_type": "code",
   "execution_count": 27,
   "metadata": {},
   "outputs": [],
   "source": [
    "neigh_distance = best_threshold ## use the optimal threshold that was found in the section above \n",
    "G = movie_genres.iloc[:, 2:].copy()\n",
    "distance_matrix = Jaccard_matrix(G) \n",
    "n_users, n_movies = R.shape\n",
    "latent_dim = 1000  \n",
    "\n",
    "m, n = R.shape\n",
    "indices = np.array(list(np.ndindex(m, n)))\n",
    "\n",
    "users = indices[:, 0]  \n",
    "movies = indices[:, 1] "
   ]
  },
  {
   "cell_type": "markdown",
   "metadata": {},
   "source": [
    "### Linear Combination of the Predictions. Finetuning for optimal $\\alpha$"
   ]
  },
  {
   "cell_type": "code",
   "execution_count": 28,
   "metadata": {},
   "outputs": [
    {
     "name": "stderr",
     "output_type": "stream",
     "text": [
      "Users Processed:: 100%|██████████| 600/600 [01:38<00:00,  6.08it/s]\n"
     ]
    }
   ],
   "source": [
    "val_knn_ratings = knn_estimation(R_train, distance_matrix, neigh_distance)    \n",
    "\n",
    "val_nn_model = build_latent_nn(n_users, n_movies, latent_dim)\n",
    "train_users, train_movies = np.where(R_train > 0)       \n",
    "train_ratings = R[train_users, train_movies]/5\n",
    "history = val_nn_model.fit(\n",
    "    [train_users, train_movies], train_ratings,\n",
    "    epochs=20, batch_size=16,\n",
    "    verbose=0\n",
    ")\n"
   ]
  },
  {
   "cell_type": "code",
   "execution_count": 29,
   "metadata": {},
   "outputs": [
    {
     "name": "stdout",
     "output_type": "stream",
     "text": [
      "KNN VAL RMSE: 1.1493\n",
      "37500/37500 [==============================] - 17s 438us/step\n",
      "NN VAL RMSE: 1.2331\n"
     ]
    }
   ],
   "source": [
    "knn_val_RMSE = test_model(val_knn_ratings, R, R_val)   # Computing RMSE of the trained model on unseen data\n",
    "print(f'KNN VAL RMSE: {knn_val_RMSE:.4f}')\n",
    "\n",
    "\n",
    "val_predictions = val_nn_model.predict([users, movies])\n",
    "val_filled_ratings = val_predictions.reshape(m, n)\n",
    "val_nn_ratings = val_filled_ratings*5\n",
    "\n",
    "nn_val_RMSE = test_model(val_nn_ratings, R, R_val)   # Computing RMSE of the trained model on unseen data\n",
    "print(f'NN VAL RMSE: {nn_val_RMSE:.4f}')"
   ]
  },
  {
   "cell_type": "code",
   "execution_count": 34,
   "metadata": {},
   "outputs": [
    {
     "name": "stdout",
     "output_type": "stream",
     "text": [
      "BEST ALPHA: 0.70\n"
     ]
    }
   ],
   "source": [
    "alpha_values = np.linspace(0, 1, 21)\n",
    "val_scores = []\n",
    "for alpha in alpha_values:\n",
    "    mixed_scores = alpha * val_knn_ratings + (1-alpha) * val_nn_ratings\n",
    "    val_RMSE = test_model(mixed_scores, R, R_val)\n",
    "    val_scores.append(val_RMSE)\n",
    "best_alpha = alpha_values[np.argmin(val_scores)]\n",
    "print(f'BEST ALPHA: {best_alpha:.2f}')"
   ]
  },
  {
   "cell_type": "markdown",
   "metadata": {},
   "source": [
    "## Final Training on both training and validation sets"
   ]
  },
  {
   "cell_type": "code",
   "execution_count": 35,
   "metadata": {},
   "outputs": [
    {
     "name": "stderr",
     "output_type": "stream",
     "text": [
      "/Users/alessandroardenghi/AILAB/Recommendation_System/utils.py:89: RuntimeWarning: Mean of empty slice\n",
      "  b_u = np.nanmean(user_reviews.replace(0, np.nan), axis=0)\n",
      "Users Processed:: 100%|██████████| 600/600 [01:38<00:00,  6.07it/s]\n"
     ]
    }
   ],
   "source": [
    "test_knn_ratings = knn_estimation(R_rest, distance_matrix, neigh_distance)    \n",
    "\n",
    "test_nn_model = build_latent_nn(n_users, n_movies, latent_dim)\n",
    "train_users, train_movies = np.where(R_rest > 0)       \n",
    "train_ratings = R[train_users, train_movies]/5\n",
    "history = test_nn_model.fit(\n",
    "    [train_users, train_movies], train_ratings,\n",
    "    epochs=20, batch_size=16,\n",
    "    verbose=0\n",
    ")"
   ]
  },
  {
   "cell_type": "code",
   "execution_count": 54,
   "metadata": {},
   "outputs": [
    {
     "name": "stdout",
     "output_type": "stream",
     "text": [
      "KNN TEST RMSE: 1.0659\n",
      "37500/37500 [==============================] - 16s 437us/step\n",
      "NN TEST RMSE: 1.1738\n",
      "ENSEMBLE TEST RMSE: 1.0517\n"
     ]
    }
   ],
   "source": [
    "knn_test_RMSE = test_model(test_knn_ratings.clip(upper=5.0, lower=0.0), R, R_test)   # Computing RMSE of the trained model on unseen data\n",
    "print(f'KNN TEST RMSE: {knn_test_RMSE:.4f}')\n",
    "\n",
    "\n",
    "test_predictions = test_nn_model.predict([users, movies])\n",
    "test_filled_ratings = test_predictions.reshape(m, n)\n",
    "test_nn_ratings = test_filled_ratings*5\n",
    "\n",
    "nn_test_RMSE = test_model(test_nn_ratings, R, R_test)   # Computing RMSE of the trained model on unseen data\n",
    "print(f'NN TEST RMSE: {nn_test_RMSE:.4f}')\n",
    "\n",
    "mixed_scores = best_alpha * test_knn_ratings.clip(upper=5.0, lower=0.0) + (1-best_alpha) * test_nn_ratings\n",
    "test_mixed_RMSE = test_model(mixed_scores, R, R_test)\n",
    "\n",
    "print(f'ENSEMBLE TEST RMSE: {test_mixed_RMSE:.4f}')"
   ]
  },
  {
   "cell_type": "markdown",
   "metadata": {},
   "source": [
    "## Extract the top 5 movies for the first 5 users"
   ]
  },
  {
   "cell_type": "markdown",
   "metadata": {},
   "source": [
    "In this section, we recommend 5 unseen movies to each of the first 5 users in our list."
   ]
  },
  {
   "cell_type": "code",
   "execution_count": 165,
   "metadata": {},
   "outputs": [],
   "source": [
    "modified_mixed_scores = mixed_scores.to_numpy().copy()\n",
    "modified_mixed_scores[R != 0] = -100                                        # Making sure movies alrady rated do not end up in the top 5\n",
    "\n",
    "first_five_rows = modified_mixed_scores[:5]                                 # Selecting first 5 users\n",
    "sorted_indices_desc = np.argsort(-first_five_rows, axis=1)[:, :5]           # Sorting in descending order\n",
    "column_names = user_reviews.columns.to_numpy()[2:]                          # Array with movie names\n",
    "movie_matrix = column_names[sorted_indices_desc]                            # Array with best 5 movies for the first 5 users\n",
    "\n",
    "row_indices = np.arange(sorted_indices_desc.shape[0]).reshape(-1, 1)\n",
    "scores_given_by_users = R[row_indices, sorted_indices_desc]                 # Array with ratings of best 5 movies for first 5 users (all 0)\n",
    "best_scores = modified_mixed_scores[row_indices, sorted_indices_desc]       # Array with predicted ratings of 5 best movies"
   ]
  },
  {
   "cell_type": "code",
   "execution_count": 186,
   "metadata": {},
   "outputs": [
    {
     "name": "stdout",
     "output_type": "stream",
     "text": [
      "Recommended Movies for User 0:\n",
      "\t\tTitle: The Hunting Party                        Predicted Rating: 4.92                 Movie Index = 1388\n",
      "\t\tTitle: Chill Factor                             Predicted Rating: 4.91                 Movie Index = 630\n",
      "\t\tTitle: The Tempest                              Predicted Rating: 4.89                 Movie Index = 1346\n",
      "\t\tTitle: Blue Like Jazz                           Predicted Rating: 4.89                 Movie Index = 1932\n",
      "\t\tTitle: The Bodyguard                            Predicted Rating: 4.88                 Movie Index = 907\n",
      "Recommended Movies for User 1:\n",
      "\t\tTitle: The Bodyguard                            Predicted Rating: 4.98                 Movie Index = 907\n",
      "\t\tTitle: Collateral                               Predicted Rating: 4.97                 Movie Index = 1491\n",
      "\t\tTitle: Elizabethtown                            Predicted Rating: 4.97                 Movie Index = 666\n",
      "\t\tTitle: Ip Man 3                                 Predicted Rating: 4.97                 Movie Index = 101\n",
      "\t\tTitle: Chill Factor                             Predicted Rating: 4.97                 Movie Index = 630\n",
      "Recommended Movies for User 2:\n",
      "\t\tTitle: The Hunting Party                        Predicted Rating: 4.98                 Movie Index = 1388\n",
      "\t\tTitle: The Tempest                              Predicted Rating: 4.96                 Movie Index = 1346\n",
      "\t\tTitle: Sabrina, the Teenage Witch               Predicted Rating: 4.95                 Movie Index = 390\n",
      "\t\tTitle: What Planet Are You From?                Predicted Rating: 4.92                 Movie Index = 628\n",
      "\t\tTitle: Chill Factor                             Predicted Rating: 4.91                 Movie Index = 630\n",
      "Recommended Movies for User 3:\n",
      "\t\tTitle: Atlas Shrugged: Who Is John Galt?        Predicted Rating: 4.87                 Movie Index = 1008\n",
      "\t\tTitle: The Lady from Shanghai                   Predicted Rating: 4.84                 Movie Index = 675\n",
      "\t\tTitle: Sea of Love                              Predicted Rating: 4.80                 Movie Index = 786\n",
      "\t\tTitle: Chain Reaction                           Predicted Rating: 4.79                 Movie Index = 909\n",
      "\t\tTitle: The Net                                  Predicted Rating: 4.79                 Movie Index = 0\n",
      "Recommended Movies for User 4:\n",
      "\t\tTitle: Independence Daysaster                   Predicted Rating: 4.87                 Movie Index = 768\n",
      "\t\tTitle: Flushed Away                             Predicted Rating: 4.82                 Movie Index = 1629\n",
      "\t\tTitle: Sabrina, the Teenage Witch               Predicted Rating: 4.80                 Movie Index = 390\n",
      "\t\tTitle: What Planet Are You From?                Predicted Rating: 4.80                 Movie Index = 628\n",
      "\t\tTitle: Wreck-It Ralph                           Predicted Rating: 4.79                 Movie Index = 1770\n"
     ]
    }
   ],
   "source": [
    "for i in range(sorted_indices_desc.shape[0]):\n",
    "    print(f'Recommended Movies for User {i}:')\n",
    "    for j in range(sorted_indices_desc.shape[1]):\n",
    "        print(f'\\t\\tTitle: {movie_matrix[i][j]:<40} Predicted Rating: {best_scores[i, j]:<20.2f} Movie Index = {sorted_indices_desc[i, j]}')"
   ]
  }
 ],
 "metadata": {
  "kernelspec": {
   "display_name": "recommendation",
   "language": "python",
   "name": "python3"
  },
  "language_info": {
   "codemirror_mode": {
    "name": "ipython",
    "version": 3
   },
   "file_extension": ".py",
   "mimetype": "text/x-python",
   "name": "python",
   "nbconvert_exporter": "python",
   "pygments_lexer": "ipython3",
   "version": "3.8.20"
  }
 },
 "nbformat": 4,
 "nbformat_minor": 2
}
